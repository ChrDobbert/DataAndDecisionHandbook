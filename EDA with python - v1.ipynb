{
  "nbformat": 4,
  "nbformat_minor": 0,
  "metadata": {
    "colab": {
      "name": "EDA with python - v1.ipynb",
      "provenance": [],
      "collapsed_sections": [],
      "include_colab_link": true
    },
    "kernelspec": {
      "display_name": "Python 3",
      "language": "python",
      "name": "python3"
    },
    "language_info": {
      "codemirror_mode": {
        "name": "ipython",
        "version": 3
      },
      "file_extension": ".py",
      "mimetype": "text/x-python",
      "name": "python",
      "nbconvert_exporter": "python",
      "pygments_lexer": "ipython3",
      "version": "3.7.6"
    }
  },
  "cells": [
    {
      "cell_type": "markdown",
      "metadata": {
        "id": "view-in-github",
        "colab_type": "text"
      },
      "source": [
        "<a href=\"https://colab.research.google.com/github/ChrDobbert/DataAndDecisionHandbook/blob/main/EDA%20with%20python%20-%20v1.ipynb\" target=\"_parent\"><img src=\"https://colab.research.google.com/assets/colab-badge.svg\" alt=\"Open In Colab\"/></a>"
      ]
    },
    {
      "cell_type": "markdown",
      "metadata": {
        "id": "S6SH3HGoC0XH"
      },
      "source": [
        "# Stats"
      ]
    },
    {
      "cell_type": "markdown",
      "metadata": {
        "id": "We8SJoO26vHh"
      },
      "source": [
        "## Libraries"
      ]
    },
    {
      "cell_type": "code",
      "metadata": {
        "id": "QwoxOSog6vHi"
      },
      "source": [
        "import numpy as np\n",
        "import scipy \n",
        "import pandas as pd\n",
        "import matplotlib.pyplot as plt\n",
        "import seaborn as sns # Set default Seaborn style\n",
        "\n",
        "#PLOTLY\n",
        "import plotly.express as px\n",
        "import plotly.graph_objects as go\n",
        "import plotly.figure_factory as ff\n",
        "\n",
        "sns.set(style=\"whitegrid\")\n",
        "pd.set_option(\"display.max.columns\", None)\n",
        "pd.set_option('display.notebook_repr_html', True)"
      ],
      "execution_count": null,
      "outputs": []
    },
    {
      "cell_type": "code",
      "metadata": {
        "id": "mkwkMtVTu8qs"
      },
      "source": [
        "test"
      ],
      "execution_count": null,
      "outputs": []
    },
    {
      "cell_type": "code",
      "metadata": {
        "tags": [],
        "id": "UQDEk-0Nq7fc"
      },
      "source": [
        "# Loading built-in Datasets:\n",
        "iris = sns.load_dataset(\"iris\")"
      ],
      "execution_count": null,
      "outputs": []
    },
    {
      "cell_type": "code",
      "metadata": {
        "id": "afuGbQ17q7fe",
        "outputId": "bb15f049-910c-4be5-eb64-0475d57eb5c2",
        "colab": {
          "referenced_widgets": [
            "37d4ca84f9c64f368496b00aeec1dfc6"
          ]
        }
      },
      "source": [
        "iris = pd.DataFrame(iris)"
      ],
      "execution_count": null,
      "outputs": [
        {
          "output_type": "display_data",
          "data": {
            "application/vnd.jupyter.widget-view+json": {
              "model_id": "37d4ca84f9c64f368496b00aeec1dfc6"
            },
            "text/html": [
              "<div>\n",
              "<style scoped>\n",
              "    .dataframe tbody tr th:only-of-type {\n",
              "        vertical-align: middle;\n",
              "    }\n",
              "\n",
              "    .dataframe tbody tr th {\n",
              "        vertical-align: top;\n",
              "    }\n",
              "\n",
              "    .dataframe thead th {\n",
              "        text-align: right;\n",
              "    }\n",
              "</style>\n",
              "<table border=\"1\" class=\"dataframe\">\n",
              "  <thead>\n",
              "    <tr style=\"text-align: right;\">\n",
              "      <th></th>\n",
              "      <th>sepal_length</th>\n",
              "      <th>sepal_width</th>\n",
              "      <th>petal_length</th>\n",
              "      <th>petal_width</th>\n",
              "      <th>species</th>\n",
              "    </tr>\n",
              "  </thead>\n",
              "  <tbody>\n",
              "    <tr>\n",
              "      <th>0</th>\n",
              "      <td>5.1</td>\n",
              "      <td>3.5</td>\n",
              "      <td>1.4</td>\n",
              "      <td>0.2</td>\n",
              "      <td>setosa</td>\n",
              "    </tr>\n",
              "    <tr>\n",
              "      <th>1</th>\n",
              "      <td>4.9</td>\n",
              "      <td>3.0</td>\n",
              "      <td>1.4</td>\n",
              "      <td>0.2</td>\n",
              "      <td>setosa</td>\n",
              "    </tr>\n",
              "    <tr>\n",
              "      <th>2</th>\n",
              "      <td>4.7</td>\n",
              "      <td>3.2</td>\n",
              "      <td>1.3</td>\n",
              "      <td>0.2</td>\n",
              "      <td>setosa</td>\n",
              "    </tr>\n",
              "    <tr>\n",
              "      <th>3</th>\n",
              "      <td>4.6</td>\n",
              "      <td>3.1</td>\n",
              "      <td>1.5</td>\n",
              "      <td>0.2</td>\n",
              "      <td>setosa</td>\n",
              "    </tr>\n",
              "    <tr>\n",
              "      <th>4</th>\n",
              "      <td>5.0</td>\n",
              "      <td>3.6</td>\n",
              "      <td>1.4</td>\n",
              "      <td>0.2</td>\n",
              "      <td>setosa</td>\n",
              "    </tr>\n",
              "    <tr>\n",
              "      <th>...</th>\n",
              "      <td>...</td>\n",
              "      <td>...</td>\n",
              "      <td>...</td>\n",
              "      <td>...</td>\n",
              "      <td>...</td>\n",
              "    </tr>\n",
              "    <tr>\n",
              "      <th>145</th>\n",
              "      <td>6.7</td>\n",
              "      <td>3.0</td>\n",
              "      <td>5.2</td>\n",
              "      <td>2.3</td>\n",
              "      <td>virginica</td>\n",
              "    </tr>\n",
              "    <tr>\n",
              "      <th>146</th>\n",
              "      <td>6.3</td>\n",
              "      <td>2.5</td>\n",
              "      <td>5.0</td>\n",
              "      <td>1.9</td>\n",
              "      <td>virginica</td>\n",
              "    </tr>\n",
              "    <tr>\n",
              "      <th>147</th>\n",
              "      <td>6.5</td>\n",
              "      <td>3.0</td>\n",
              "      <td>5.2</td>\n",
              "      <td>2.0</td>\n",
              "      <td>virginica</td>\n",
              "    </tr>\n",
              "    <tr>\n",
              "      <th>148</th>\n",
              "      <td>6.2</td>\n",
              "      <td>3.4</td>\n",
              "      <td>5.4</td>\n",
              "      <td>2.3</td>\n",
              "      <td>virginica</td>\n",
              "    </tr>\n",
              "    <tr>\n",
              "      <th>149</th>\n",
              "      <td>5.9</td>\n",
              "      <td>3.0</td>\n",
              "      <td>5.1</td>\n",
              "      <td>1.8</td>\n",
              "      <td>virginica</td>\n",
              "    </tr>\n",
              "  </tbody>\n",
              "</table>\n",
              "<p>150 rows × 5 columns</p>\n",
              "</div>"
            ],
            "text/plain": [
              "     sepal_length  sepal_width  petal_length  petal_width    species\n",
              "0             5.1          3.5           1.4          0.2     setosa\n",
              "1             4.9          3.0           1.4          0.2     setosa\n",
              "2             4.7          3.2           1.3          0.2     setosa\n",
              "3             4.6          3.1           1.5          0.2     setosa\n",
              "4             5.0          3.6           1.4          0.2     setosa\n",
              "..            ...          ...           ...          ...        ...\n",
              "145           6.7          3.0           5.2          2.3  virginica\n",
              "146           6.3          2.5           5.0          1.9  virginica\n",
              "147           6.5          3.0           5.2          2.0  virginica\n",
              "148           6.2          3.4           5.4          2.3  virginica\n",
              "149           5.9          3.0           5.1          1.8  virginica\n",
              "\n",
              "[150 rows x 5 columns]"
            ]
          },
          "metadata": {
            "tags": []
          }
        }
      ]
    },
    {
      "cell_type": "code",
      "metadata": {
        "tags": [],
        "id": "MI2yK3-8q7fi",
        "outputId": "9c821a58-5c1a-4650-83db-c74c9b58c80f"
      },
      "source": [
        "print(iris.info)"
      ],
      "execution_count": null,
      "outputs": [
        {
          "output_type": "stream",
          "text": [
            "<bound method DataFrame.info of      sepal_length  sepal_width  petal_length  petal_width    species\n",
            "0             5.1          3.5           1.4          0.2     setosa\n",
            "1             4.9          3.0           1.4          0.2     setosa\n",
            "2             4.7          3.2           1.3          0.2     setosa\n",
            "3             4.6          3.1           1.5          0.2     setosa\n",
            "4             5.0          3.6           1.4          0.2     setosa\n",
            "..            ...          ...           ...          ...        ...\n",
            "145           6.7          3.0           5.2          2.3  virginica\n",
            "146           6.3          2.5           5.0          1.9  virginica\n",
            "147           6.5          3.0           5.2          2.0  virginica\n",
            "148           6.2          3.4           5.4          2.3  virginica\n",
            "149           5.9          3.0           5.1          1.8  virginica\n",
            "\n",
            "[150 rows x 5 columns]>\n"
          ],
          "name": "stdout"
        }
      ]
    },
    {
      "cell_type": "markdown",
      "metadata": {
        "id": "0tqnbqg3q7fk"
      },
      "source": [
        "# Measures of Central Tendency\n",
        "The measures of central tendency show the central or middle values of datasets. There are several definitions of what’s considered to be the center of a dataset. In this tutorial, you’ll learn how to identify and calculate these measures of central tendency:\n",
        "\n",
        "* Mean\n",
        "* Weighted mean\n",
        "* Geometric mean\n",
        "* Harmonic mean\n",
        "* Median\n",
        "* Mode\n"
      ]
    },
    {
      "cell_type": "markdown",
      "metadata": {
        "id": "6jm_vVY5q7fl"
      },
      "source": [
        "## Mean absolute deviation"
      ]
    },
    {
      "cell_type": "code",
      "metadata": {
        "id": "oN5BIS4Qq7fl",
        "outputId": "eb535bdd-4e8a-402d-f520-aad091ef530d"
      },
      "source": [
        "iris.mad()"
      ],
      "execution_count": null,
      "outputs": [
        {
          "output_type": "execute_result",
          "data": {
            "text/plain": [
              "sepal_length    0.687556\n",
              "sepal_width     0.336782\n",
              "petal_length    1.562747\n",
              "petal_width     0.658133\n",
              "dtype: float64"
            ]
          },
          "metadata": {
            "tags": []
          },
          "execution_count": 9
        }
      ]
    },
    {
      "cell_type": "markdown",
      "metadata": {
        "id": "99AsvKkHq7fo"
      },
      "source": [
        "## Variance"
      ]
    },
    {
      "cell_type": "code",
      "metadata": {
        "id": "0XzRmLGAq7fo",
        "outputId": "88bab397-cd24-4d5f-bd53-9471d5046b85"
      },
      "source": [
        "iris.var()"
      ],
      "execution_count": null,
      "outputs": [
        {
          "output_type": "execute_result",
          "data": {
            "text/plain": [
              "sepal_length    0.685694\n",
              "sepal_width     0.189979\n",
              "petal_length    3.116278\n",
              "petal_width     0.581006\n",
              "dtype: float64"
            ]
          },
          "metadata": {
            "tags": []
          },
          "execution_count": 14
        }
      ]
    },
    {
      "cell_type": "markdown",
      "metadata": {
        "id": "QDxChS2Xq7ft"
      },
      "source": [
        "# Measures of Variability\n",
        "The measures of central tendency aren’t sufficient to describe data. You’ll also need the measures of variability that quantify the spread of data points. In this section, you’ll learn how to identify and calculate the following variability measures:\n",
        "\n",
        "* Variance\n",
        "* Standard deviation\n",
        "* Skewness\n",
        "* Percentiles\n",
        "* Ranges"
      ]
    },
    {
      "cell_type": "markdown",
      "metadata": {
        "id": "ssoyuKTdq7ft"
      },
      "source": [
        "## Coefficient of variation"
      ]
    },
    {
      "cell_type": "code",
      "metadata": {
        "id": "PL1YE21Bq7ft",
        "outputId": "f80652e5-ec97-475b-c84b-6717af9f2580"
      },
      "source": [
        "np.std(iris)/np.mean(iris)\n"
      ],
      "execution_count": null,
      "outputs": [
        {
          "output_type": "execute_result",
          "data": {
            "text/plain": [
              "sepal_length    0.141238\n",
              "sepal_width     0.142088\n",
              "petal_length    0.468176\n",
              "petal_width     0.633429\n",
              "dtype: float64"
            ]
          },
          "metadata": {
            "tags": []
          },
          "execution_count": 8
        }
      ]
    },
    {
      "cell_type": "markdown",
      "metadata": {
        "id": "na4VV_Z6q7fw"
      },
      "source": [
        "## Standard deviation"
      ]
    },
    {
      "cell_type": "code",
      "metadata": {
        "id": "mxJqCfC8q7fw",
        "outputId": "ed7d48e8-3ac2-4830-fe71-4bf86f1bd79d"
      },
      "source": [
        "iris.std()"
      ],
      "execution_count": null,
      "outputs": [
        {
          "output_type": "execute_result",
          "data": {
            "text/plain": [
              "sepal_length    0.828066\n",
              "sepal_width     0.435866\n",
              "petal_length    1.765298\n",
              "petal_width     0.762238\n",
              "dtype: float64"
            ]
          },
          "metadata": {
            "tags": []
          },
          "execution_count": 29
        }
      ]
    },
    {
      "cell_type": "markdown",
      "metadata": {
        "id": "I6Iaq6Y0q7fy"
      },
      "source": [
        "## Skewness"
      ]
    },
    {
      "cell_type": "code",
      "metadata": {
        "id": "-VG8hosRq7fz",
        "outputId": "1c106ff5-db11-48dc-e417-e1ec59f25276"
      },
      "source": [
        "iris.skew()"
      ],
      "execution_count": null,
      "outputs": [
        {
          "output_type": "execute_result",
          "data": {
            "text/plain": [
              "sepal_length    0.314911\n",
              "sepal_width     0.318966\n",
              "petal_length   -0.274884\n",
              "petal_width    -0.102967\n",
              "dtype: float64"
            ]
          },
          "metadata": {
            "tags": []
          },
          "execution_count": 33
        }
      ]
    },
    {
      "cell_type": "markdown",
      "metadata": {
        "id": "ywxNYbLjq7f1"
      },
      "source": [
        "## Quantiles"
      ]
    },
    {
      "cell_type": "code",
      "metadata": {
        "tags": [],
        "id": "wLVrGTcHq7f1",
        "outputId": "a1d9dd85-7513-4026-c3f4-0e12c7d800b0"
      },
      "source": [
        "quantiles = iris.quantile([0.25, 0.5, 0.75])\n",
        "\n",
        "print(quantiles)"
      ],
      "execution_count": null,
      "outputs": [
        {
          "output_type": "stream",
          "text": [
            "      sepal_length  sepal_width  petal_length  petal_width\n",
            "0.25           5.1          2.8          1.60          0.3\n",
            "0.50           5.8          3.0          4.35          1.3\n",
            "0.75           6.4          3.3          5.10          1.8\n"
          ],
          "name": "stdout"
        }
      ]
    },
    {
      "cell_type": "markdown",
      "metadata": {
        "id": "Fwlchqefq7f4"
      },
      "source": [
        "## Covariance\n",
        "\n",
        "### Measures of Correlation Between Pairs of Data\n",
        "You’ll often need to examine the relationship between the corresponding elements of two variables in a dataset. Say there are two variables, 𝑥 and 𝑦, with an equal number of elements, $𝑛$. Let $𝑥_₁$ from $𝑥$ correspond to $𝑦₁$ from $𝑦$, $𝑥_2$ from $𝑥$ to $𝑦_2$ from $𝑦$, and so on. You can then say that there are $𝑛$ pairs of corresponding elements: $(𝑥_₁, 𝑦_₁)$, $(𝑥₂, 𝑦₂)$, and so on.\n",
        "\n",
        "You’ll see the following measures of correlation between pairs of data:\n",
        "\n",
        "Positive correlation exists when larger values of $𝑥$ correspond to larger values of $𝑦$ and vice versa.\n",
        "Negative correlation exists when larger values of $𝑥$ correspond to smaller values of $𝑦$ and vice versa.\n",
        "Weak or no correlation exists if there is no such apparent relationship.\n",
        "\n",
        "The two statistics that measure the correlation between datasets are covariance and the correlation coefficient.\n",
        "\n",
        "<p style=“\n",
        "   color: #32516b;\n",
        "   background-color: #dfebf5;\n",
        "   border-color: #d3e3f1;”>When working with correlation among a pair of variables, and that’s that correlation is not a measure or indicator of causation, but only of association!</p>\n"
      ]
    },
    {
      "cell_type": "code",
      "metadata": {
        "tags": [],
        "id": "iam5dVD3q7f4",
        "outputId": "96ae8423-997b-444c-bbae-a84821c7351a"
      },
      "source": [
        "covariance = iris.cov()\n",
        "print(covariance)"
      ],
      "execution_count": null,
      "outputs": [
        {
          "output_type": "stream",
          "text": [
            "              sepal_length  sepal_width  petal_length  petal_width\n",
            "sepal_length      0.685694    -0.042434      1.274315     0.516271\n",
            "sepal_width      -0.042434     0.189979     -0.329656    -0.121639\n",
            "petal_length      1.274315    -0.329656      3.116278     1.295609\n",
            "petal_width       0.516271    -0.121639      1.295609     0.581006\n"
          ],
          "name": "stdout"
        }
      ]
    },
    {
      "cell_type": "code",
      "metadata": {
        "id": "cI6b1zBRq7f7"
      },
      "source": [
        ""
      ],
      "execution_count": null,
      "outputs": []
    }
  ]
}